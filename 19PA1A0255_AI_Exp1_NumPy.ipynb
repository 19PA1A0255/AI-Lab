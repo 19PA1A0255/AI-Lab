{
  "nbformat": 4,
  "nbformat_minor": 0,
  "metadata": {
    "colab": {
      "name": "19PA1A0255 AI Exp1.NumPy",
      "provenance": [],
      "authorship_tag": "ABX9TyPXrz719zo+QjpO/Bz2u6wY",
      "include_colab_link": true
    },
    "kernelspec": {
      "name": "python3",
      "display_name": "Python 3"
    }
  },
  "cells": [
    {
      "cell_type": "markdown",
      "metadata": {
        "id": "view-in-github",
        "colab_type": "text"
      },
      "source": [
        "<a href=\"https://colab.research.google.com/github/19PA1A0255/AI-Lab/blob/master/19PA1A0255_AI_Exp1_NumPy.ipynb\" target=\"_parent\"><img src=\"https://colab.research.google.com/assets/colab-badge.svg\" alt=\"Open In Colab\"/></a>"
      ]
    },
    {
      "cell_type": "markdown",
      "metadata": {
        "id": "Ev_Zy-KLBbul",
        "colab_type": "text"
      },
      "source": [
        "#\"Experiment 1: Numpy\""
      ]
    },
    {
      "cell_type": "markdown",
      "metadata": {
        "id": "kYML1PizBpuM",
        "colab_type": "text"
      },
      "source": [
        "##i)Different ways to create Numpy arrays"
      ]
    },
    {
      "cell_type": "markdown",
      "metadata": {
        "id": "ZssLDHmQCFcR",
        "colab_type": "text"
      },
      "source": [
        "####a)create a numpy array using List "
      ]
    },
    {
      "cell_type": "code",
      "metadata": {
        "id": "hTw99qZoGSYg",
        "colab_type": "code",
        "colab": {
          "base_uri": "https://localhost:8080/",
          "height": 34
        },
        "outputId": "8f69af43-3c7c-4ecf-af44-571d6c79462b"
      },
      "source": [
        "import numpy as np\n",
        "a=np.array([1,2,3])\n",
        "a"
      ],
      "execution_count": null,
      "outputs": [
        {
          "output_type": "execute_result",
          "data": {
            "text/plain": [
              "array([1, 2, 3])"
            ]
          },
          "metadata": {
            "tags": []
          },
          "execution_count": 2
        }
      ]
    },
    {
      "cell_type": "markdown",
      "metadata": {
        "id": "NT57KXxDG_t5",
        "colab_type": "text"
      },
      "source": [
        "####b)Create a numpy array using arange function\n",
        "\n"
      ]
    },
    {
      "cell_type": "code",
      "metadata": {
        "id": "lE20OCiyGry-",
        "colab_type": "code",
        "colab": {
          "base_uri": "https://localhost:8080/",
          "height": 51
        },
        "outputId": "f6d6ec0c-acae-40da-ff33-085cb4e62536"
      },
      "source": [
        "a=np.array([[1,2,3],[98,99,100]])\n",
        "print(a)"
      ],
      "execution_count": null,
      "outputs": [
        {
          "output_type": "stream",
          "text": [
            "[[  1   2   3]\n",
            " [ 98  99 100]]\n"
          ],
          "name": "stdout"
        }
      ]
    },
    {
      "cell_type": "markdown",
      "metadata": {
        "id": "VySbkQafIF5U",
        "colab_type": "text"
      },
      "source": [
        "##ii)Add,remove,Modify elements in an array."
      ]
    },
    {
      "cell_type": "markdown",
      "metadata": {
        "id": "XyEwBXIwIaL6",
        "colab_type": "text"
      },
      "source": [
        "####a)Create a numpy array using add function."
      ]
    },
    {
      "cell_type": "code",
      "metadata": {
        "id": "aDpCE5JiJEcH",
        "colab_type": "code",
        "colab": {
          "base_uri": "https://localhost:8080/",
          "height": 34
        },
        "outputId": "0dfbe121-d145-4c71-f541-72326aa9c13e"
      },
      "source": [
        "a=np.array([1,2,3])\n",
        "b=np.append(a,[10,20,30])\n",
        "print(b)"
      ],
      "execution_count": null,
      "outputs": [
        {
          "output_type": "stream",
          "text": [
            "[ 1  2  3 10 20 30]\n"
          ],
          "name": "stdout"
        }
      ]
    },
    {
      "cell_type": "markdown",
      "metadata": {
        "id": "yT38RATBJbnG",
        "colab_type": "text"
      },
      "source": [
        "####b)Create a numpy array using remove function."
      ]
    },
    {
      "cell_type": "code",
      "metadata": {
        "id": "g_gfNO9aJhiW",
        "colab_type": "code",
        "colab": {
          "base_uri": "https://localhost:8080/",
          "height": 34
        },
        "outputId": "25160cd8-8378-4abd-f234-750f17725dd8"
      },
      "source": [
        "c=np.delete(a,2)\n",
        "print(c)"
      ],
      "execution_count": null,
      "outputs": [
        {
          "output_type": "stream",
          "text": [
            "[1 2]\n"
          ],
          "name": "stdout"
        }
      ]
    },
    {
      "cell_type": "markdown",
      "metadata": {
        "id": "WKUaSm2mKEOY",
        "colab_type": "text"
      },
      "source": [
        "####c)Create a numpy array using remove function."
      ]
    },
    {
      "cell_type": "code",
      "metadata": {
        "id": "_2Am-czxKKXV",
        "colab_type": "code",
        "colab": {
          "base_uri": "https://localhost:8080/",
          "height": 34
        },
        "outputId": "7e4f180e-8cb3-4440-fefe-49e5365730ca"
      },
      "source": [
        "c[c<5]=-1\n",
        "print(c)"
      ],
      "execution_count": null,
      "outputs": [
        {
          "output_type": "stream",
          "text": [
            "[-1 -1]\n"
          ],
          "name": "stdout"
        }
      ]
    },
    {
      "cell_type": "markdown",
      "metadata": {
        "id": "Mq-tjKAQKVlF",
        "colab_type": "text"
      },
      "source": [
        "##iii)Artithmetic operations on NumPy array."
      ]
    },
    {
      "cell_type": "code",
      "metadata": {
        "id": "7B0zUROrK3T0",
        "colab_type": "code",
        "colab": {
          "base_uri": "https://localhost:8080/",
          "height": 102
        },
        "outputId": "af2f8852-10f7-4993-8727-09742c589750"
      },
      "source": [
        "import numpy as np\n",
        "a=([1,2,3])\n",
        "b=([4,5,6])\n",
        "num_sum = np.add(a,b)\n",
        "num_diff = np.subtract(a,b)\n",
        "num_quo = np.divide(a,b)\n",
        "num_mod = np.mod(a,b)\n",
        "num_pow = np.power(a,b)\n",
        "print(num_sum)\n",
        "print(num_diff)\n",
        "print(num_quo)\n",
        "print(num_mod)\n",
        "print(num_pow)\n"
      ],
      "execution_count": null,
      "outputs": [
        {
          "output_type": "stream",
          "text": [
            "[5 7 9]\n",
            "[-3 -3 -3]\n",
            "[0.25 0.4  0.5 ]\n",
            "[1 2 3]\n",
            "[  1  32 729]\n"
          ],
          "name": "stdout"
        }
      ]
    },
    {
      "cell_type": "markdown",
      "metadata": {
        "id": "g7lPXr-xMDfb",
        "colab_type": "text"
      },
      "source": [
        "##iv)Slicing and iterating of NumPy arrays."
      ]
    },
    {
      "cell_type": "markdown",
      "metadata": {
        "id": "WFlkJ_MiMSdY",
        "colab_type": "text"
      },
      "source": [
        "####a)Create a numpy array using Slicing function."
      ]
    },
    {
      "cell_type": "code",
      "metadata": {
        "id": "vRlG_jKeMp1a",
        "colab_type": "code",
        "colab": {
          "base_uri": "https://localhost:8080/",
          "height": 34
        },
        "outputId": "c9bde8ad-c681-40fd-9b62-aee8b56fee4c"
      },
      "source": [
        "import numpy as np\n",
        "arr=np.array([1,2,3,4,5,6,7,8,9,10])\n",
        "print(arr[1:8])\n"
      ],
      "execution_count": null,
      "outputs": [
        {
          "output_type": "stream",
          "text": [
            "[2 3 4 5 6 7 8]\n"
          ],
          "name": "stdout"
        }
      ]
    },
    {
      "cell_type": "markdown",
      "metadata": {
        "id": "CL7kzOo0NJky",
        "colab_type": "text"
      },
      "source": [
        "####b)Create a numpy array using iterating function."
      ]
    },
    {
      "cell_type": "code",
      "metadata": {
        "id": "YUY4G59ENP4j",
        "colab_type": "code",
        "colab": {
          "base_uri": "https://localhost:8080/",
          "height": 187
        },
        "outputId": "aeb8d579-9dbc-4fde-d09c-0e20eccc7abb"
      },
      "source": [
        "for x in arr:\n",
        "  print(x)"
      ],
      "execution_count": null,
      "outputs": [
        {
          "output_type": "stream",
          "text": [
            "1\n",
            "2\n",
            "3\n",
            "4\n",
            "5\n",
            "6\n",
            "7\n",
            "8\n",
            "9\n",
            "10\n"
          ],
          "name": "stdout"
        }
      ]
    },
    {
      "cell_type": "markdown",
      "metadata": {
        "id": "-ceJKnZRNnOh",
        "colab_type": "text"
      },
      "source": [
        "##v)Matrix operations on NumPy arrays."
      ]
    },
    {
      "cell_type": "code",
      "metadata": {
        "id": "NiNLooyaN6y8",
        "colab_type": "code",
        "colab": {
          "base_uri": "https://localhost:8080/",
          "height": 119
        },
        "outputId": "0ad7d22b-9cc8-45c9-9c1a-5177fcc67e5c"
      },
      "source": [
        "import numpy as np\n",
        "a=np.array([[1,2],[3,4]])\n",
        "b=np.array([[5,6],[7,8]])\n",
        "print(np.add(a,b))\n",
        "print(np.subtract(a,b))\n",
        "print(np.divide(a,b))"
      ],
      "execution_count": null,
      "outputs": [
        {
          "output_type": "stream",
          "text": [
            "[[ 6  8]\n",
            " [10 12]]\n",
            "[[-4 -4]\n",
            " [-4 -4]]\n",
            "[[0.2        0.33333333]\n",
            " [0.42857143 0.5       ]]\n"
          ],
          "name": "stdout"
        }
      ]
    }
  ]
}